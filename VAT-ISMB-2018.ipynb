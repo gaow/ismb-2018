{
 "cells": [
  {
   "cell_type": "markdown",
   "metadata": {},
   "source": [
    "# Association Analysis of Sequence Data using Variant Association Tools (VAT) for Complex Traits"
   ]
  },
  {
   "cell_type": "markdown",
   "metadata": {},
   "source": [
    "Copyright (c) 2018, Gao Wang, Biao Li, Diana Cornejo Sánchez & Suzanne M. Leal"
   ]
  },
  {
   "cell_type": "markdown",
   "metadata": {},
   "source": [
    "## PURPOSE\n",
    "Variant Association Tools [VAT, Wang et al (2014)] [1] was developed to perform quality control and association analysis of sequence data. It can also be used to analyze genotype data, e.g. exome chip data and imputed data. The software incorporates many rare variant association methods which include but not limited to Combined Multivariate Collapsing (CMC) [2], Burden of Rare Variants (BRV) [3], Weighted Sum Statistic (WSS) [4], Kernel Based Adaptive Cluster (KBAC) [5], Variable Threshold (VT) [6] and Sequence Kernel Association Test (SKAT) [7].\n",
    "VAT inherits the intuitive command-line interface of Variant Tools (VTools) [8] with re-design and implementation of its infrastructure to accommodate the scale of dataset generated from current sequencing efforts on large populations. Features of VAT are implemented into VTools subcommand system."
   ]
  },
  {
   "cell_type": "markdown",
   "metadata": {},
   "source": [
    "## RESOURCES\n",
    "\n",
    "A list of all commands that are used in this exercise can be found at:\n",
    "\n",
    "https://statgen.research.bcm.edu/index.php/Main_Page\n",
    "\n",
    "Basic concepts to handle sequence data using vtools can be found at:\n",
    "\n",
    "http://varianttools.sourceforge.net/Main/Concepts\n",
    "\n",
    "VAT Software documentation:\n",
    "\n",
    "http://varianttools.sourceforge.net/Main/Documentation"
   ]
  },
  {
   "cell_type": "markdown",
   "metadata": {},
   "source": [
    "### Genotype data\n",
    "\n",
    "Exome genotype data was downloaded from the 1000 Genomes pilot data July 2010 release for both the CEU and YRI populations. Only the autosomes are contained in the datasets accompanying this exercise.\n",
    "The data sets (`CEU.exon.2010_03.genotypes.vcf.gz, YRI.exon.2010_03.genotypes.vcf.gz`) are available from:\n",
    "ftp://ftp.1000genomes.ebi.ac.uk/vol1/ftp/pilot_data/release/2010_07/exon/snps"
   ]
  },
  {
   "cell_type": "markdown",
   "metadata": {},
   "source": [
    "### Phenotype data\n",
    "To demonstrate the association analysis, we simulated a quantitative trait phenotype (BMI). Please note that these phenotypes are NOT from the 1000 genome project."
   ]
  },
  {
   "cell_type": "markdown",
   "metadata": {},
   "source": [
    "### Computation resources\n",
    "Due to the nature of next-generation sequencing data, a reasonably powerful machine with high speed internet connection is needed to use this tool for real-world applications. For this reason, in this tutorial we will use a small demo dataset to demonstrate association analysis."
   ]
  },
  {
   "cell_type": "markdown",
   "metadata": {},
   "source": [
    "## Part I: Data Quality Control, Annotation and Variant/sample Selection\n",
    "\n",
    "### 1.1\tGetting started\n",
    "Please navigate to the exercise data directory,"
   ]
  },
  {
   "cell_type": "code",
   "execution_count": 1,
   "metadata": {},
   "outputs": [
    {
     "name": "stdout",
     "output_type": "stream",
     "text": [
      "/home/gaow/tmp/31-May-2018/data"
     ]
    }
   ],
   "source": [
    "%cd data"
   ]
  },
  {
   "cell_type": "markdown",
   "metadata": {},
   "source": [
    "and check the available subcommands by typing:"
   ]
  },
  {
   "cell_type": "code",
   "execution_count": 2,
   "metadata": {
    "kernel": "Bash"
   },
   "outputs": [
    {
     "name": "stdout",
     "output_type": "stream",
     "text": [
      "usage: vtools [-h] [--version]\n",
      "              {init,import,phenotype,show,liftover,use,update,select,exclude,compare,output,export,remove,associate,admin,execute}\n",
      "              ...\n",
      "\n",
      "A variant calling, processing, annotation and analysis tool for next-\n",
      "generation sequencing studies.\n",
      "\n",
      "optional arguments:\n",
      "  -h, --help            show this help message and exit\n",
      "  --version             show program's version number and exit\n",
      "\n",
      "subcommands:\n",
      "  {init,import,phenotype,show,liftover,use,update,select,exclude,compare,output,export,remove,associate,admin,execute}\n",
      "    init                Create a new project, or a subproject from an existing\n",
      "                        parent project, or merge several existing projects\n",
      "                        into one\n",
      "    import              Import variants and related sample genotype from files\n",
      "                        in specified formats\n",
      "    phenotype           Manage sample phenotypes\n",
      "    show                Display content of a project\n",
      "    liftover            Set alternative reference genome and update\n",
      "                        alternative coordinates of all variant tables\n",
      "    use                 Prepare (download or import if necessary) and use an\n",
      "                        annotation database\n",
      "    update              Add or update fields of existing variants and genotype\n",
      "                        using information from specified existing fields,\n",
      "                        sample genotype, or external files\n",
      "    select              Output or save select variants that match specified\n",
      "                        conditions\n",
      "    exclude             Output or save variants after excluding variants that\n",
      "                        match specified conditions\n",
      "    compare             Compare sites, variants, or genotypes of variants in\n",
      "                        two or more variant tables\n",
      "    output              Output variants in tab or comma separated format\n",
      "    export              Export samples (variants and genotypes) in specified\n",
      "                        format\n",
      "    remove              Remove project or its contents such as variant tables,\n",
      "                        fields, and annotation databases.\n",
      "    associate           Test association between variants and phenotypes\n",
      "    admin               Perform various administrative tasks including merge\n",
      "                        and rename samples.\n",
      "    execute             Execute a SQL query\n",
      "\n",
      "Use 'vtools cmd -h' for details about each command. Please contact Bo Peng\n",
      "(bpeng at mdanderson.org) if you have any question.\n"
     ]
    }
   ],
   "source": [
    "vtools -h"
   ]
  },
  {
   "cell_type": "markdown",
   "metadata": {},
   "source": [
    "Subcommand system is used for various data manipulation tasks (to check details of each subcommand use `vtools <name of subcommand> -h`). This tutorial is mission oriented and focuses on a subset of the commands that are relevant to variant-phenotype association analysis, rather than introducing them systematically. For additional functionality, please refer to documentation and tutorials online."
   ]
  },
  {
   "cell_type": "markdown",
   "metadata": {},
   "source": [
    "### Initialize a project"
   ]
  },
  {
   "cell_type": "code",
   "execution_count": 6,
   "metadata": {},
   "outputs": [
    {
     "name": "stdout",
     "output_type": "stream",
     "text": [
      "INFO: variant tools 3.0.0dev : Copyright (c) 2011 - 2016 Bo Peng\n",
      "INFO: Please visit http://varianttools.sourceforge.net for more information.\n",
      "INFO: Creating a new project VATDemo\n"
     ]
    }
   ],
   "source": [
    "vtools init VATDemo"
   ]
  },
  {
   "cell_type": "markdown",
   "metadata": {},
   "source": [
    "Command `vtools init` creates a new project in the current directory. A directory can only have one project. After a project is created, subsequent `vtools` calls will automatically load the project in the current directory. Working from outside of a project directory is not allowed."
   ]
  },
  {
   "cell_type": "markdown",
   "metadata": {},
   "source": [
    "### Import variant and genotype data\n"
   ]
  },
  {
   "cell_type": "markdown",
   "metadata": {},
   "source": [
    "Import all vcf files under the current directory:\n"
   ]
  },
  {
   "cell_type": "code",
   "execution_count": 7,
   "metadata": {},
   "outputs": [
    {
     "name": "stdout",
     "output_type": "stream",
     "text": [
      "INFO: Importing variants from CEU.exon.2010_03.genotypes.vcf.gz (1/2)\n",
      "CEU.exon.2010_03.genotypes.vcf.gz: 100% [============\u001b[1;31m\u001b[0m] 4,306 19.0K/s in 00:00:00\n",
      "INFO: 3,489 new variants (3,489 SNVs) from 3,500 lines are imported.\n",
      "Importing genotypes: 100% [===========================\u001b[1;31m\u001b[0m] 3,489 7.0K/s in 00:00:00\n",
      "INFO: Importing variants from YRI.exon.2010_03.genotypes.vcf.gz (2/2)\n",
      "YRI.exon.2010_03.genotypes.vcf.gz: 100% [============\u001b[1;31m\u001b[0m] 5,967 19.5K/s in 00:00:00\n",
      "INFO: 3,498 new variants (5,175 SNVs) from 5,186 lines are imported.\n",
      "Importing genotypes: 100% [==========================\u001b[1;31m\u001b[0m] 6,987 10.4K/s in 00:00:00\n"
     ]
    }
   ],
   "source": [
    "vtools import *.vcf.gz --var_info DP filter --geno_info DP_geno --build hg18 -j1"
   ]
  },
  {
   "cell_type": "markdown",
   "metadata": {},
   "source": [
    "Command `vtools import` imports variants, sample genotypes and related information fields. The imported variants are saved to the master variant table for the project, along with their information fields.\n",
    "\n",
    "The command above imports two vcf files sequentially into an empty `vtools` project. The second `INFO` message in the screen output shows that 3,489 variant sites are imported from the first vcf file, where 3,489 new means that all of them are new because prior to importing the first vcf the project was empty so there was 0 site. The fourth `INFO` message tells that 5,175 variant sites are imported from the second vcf file, but only 3,498 of them are new (which are not seen in the existing 3,489) because prior to importing the second vcf there were already 3,489 existing variant sites from first vcf. \n",
    "\n",
    "Thus, 5,175 - 3,498 = 1,677 variant sites are overlapped sites between first and second vcfs. The last `INFO` message summarizes that the sum of variant sites contained in both vcfs is 8,664 = 3,489 + 5,175, where there are 6,987 variant sites after merging variants from both vcfs.\n",
    "\n",
    "More details about `vtools import` command can be found at:\n",
    "\n",
    "http://varianttools.sourceforge.net/Vtools/Import\n",
    "\n",
    "Since the input VCF file uses hg18 as the reference genome while most modern annotation data sources are hg19-based, we need to \"liftover\" our project using hg19 in order to use various annotation sources in the analysis. Vtools provides a command which is based on the tool of USCS `liftOver` to map the variants from existing reference genome to an alternative build. More details about `vtools liftover` command can be found at:\n",
    "\n",
    "http://varianttools.sourceforge.net/Vtools/Liftover"
   ]
  },
  {
   "cell_type": "code",
   "execution_count": 10,
   "metadata": {},
   "outputs": [
    {
     "name": "stdout",
     "output_type": "stream",
     "text": [
      "INFO: Downloading liftOver chain file from UCSC\n",
      "INFO: Exporting variants in BED format\n",
      "Exporting variants: 100% [==========================\u001b[1;31m\u001b[0m] 6,987 200.9K/s in 00:00:00\n",
      "INFO: Running UCSC liftOver tool\n",
      "Updating table variant: 100% [=======================\u001b[1;31m\u001b[0m] 6,987 989.6/s in 00:00:07\n"
     ]
    }
   ],
   "source": [
    "vtools liftover hg19"
   ]
  },
  {
   "cell_type": "markdown",
   "metadata": {},
   "source": [
    "### Import phenotype data\n",
    "\n",
    "The aim of the association test is to find variants that modulate the phenotype BMI. We simulated BMI values for each of the individuals. The phenotype file must be in plain text format with sample names matching the sample IDs in the vcf file(s):"
   ]
  },
  {
   "cell_type": "code",
   "execution_count": 11,
   "metadata": {},
   "outputs": [
    {
     "name": "stdout",
     "output_type": "stream",
     "text": [
      "head: cannot open 'phenotypes.csv' for reading: No such file or directory\n"
     ]
    },
    {
     "ename": "",
     "evalue": "1",
     "execution_count": 19,
     "output_type": "error",
     "traceback": []
    }
   ],
   "source": [
    "head phenotypes.csv"
   ]
  },
  {
   "cell_type": "markdown",
   "metadata": {},
   "source": [
    "The phenotype file includes information for every individual, the sample name, sequencing panel, sex and BMI. To import the phenotype data:"
   ]
  },
  {
   "cell_type": "code",
   "execution_count": null,
   "metadata": {},
   "outputs": [],
   "source": [
    "vtools phenotype --from_file phenotypes.csv --delimiter \",\""
   ]
  },
  {
   "cell_type": "markdown",
   "metadata": {},
   "source": [
    "Unlike `vtools import`, this command imports/adds properties to samples rather than to variants. More details about `vtools phenotype` command can be found at:\n",
    "\n",
    "http://varianttools.sourceforge.net/Vtools/Phenotype"
   ]
  },
  {
   "cell_type": "markdown",
   "metadata": {},
   "source": [
    "### View imported data\n",
    "Summary information for the project can be viewed anytime using the command `vtools show`, which displays various project and system information. More details about `vtools show` can be found at:\n",
    "\n",
    "http://varianttools.sourceforge.net/Vtools/Show\n",
    "\n",
    "Some useful data summary commands are:"
   ]
  },
  {
   "cell_type": "code",
   "execution_count": 12,
   "metadata": {},
   "outputs": [
    {
     "name": "stdout",
     "output_type": "stream",
     "text": [
      "Project name:                VATDemo\n",
      "Created on:                  Fri Jun 29 07:55:30 2018\n",
      "Primary reference genome:    hg18\n",
      "Secondary reference genome:  hg19\n",
      "Storage method:              hdf5\n",
      "Runtime options:             verbosity=1, shared_resource=/home/gaow/.variant_tools, local_resource=/home/gaow/.variant_tools\n",
      "Variant tables:              variant\n",
      "Annotation databases:        \n",
      "\n"
     ]
    }
   ],
   "source": [
    "vtools show project"
   ]
  },
  {
   "cell_type": "code",
   "execution_count": 13,
   "metadata": {},
   "outputs": [
    {
     "name": "stdout",
     "output_type": "stream",
     "text": [
      "table      #variants     date message\n",
      "variant        6,987    Jun29 Master variant table\n"
     ]
    }
   ],
   "source": [
    "vtools show tables"
   ]
  },
  {
   "cell_type": "code",
   "execution_count": 14,
   "metadata": {},
   "outputs": [
    {
     "name": "stdout",
     "output_type": "stream",
     "text": [
      "Name:                   variant\n",
      "Description:            Master variant table\n",
      "Creation date:          Jun29\n",
      "Command:\n",
      "Fields:                 variant_id, bin, chr, pos, ref, alt, DP, filter,\n",
      "                        alt_bin, alt_chr, alt_pos\n",
      "Number of variants:     6987\n"
     ]
    }
   ],
   "source": [
    "vtools show table variant"
   ]
  },
  {
   "cell_type": "code",
   "execution_count": 21,
   "metadata": {},
   "outputs": [
    {
     "name": "stdout",
     "output_type": "stream",
     "text": [
      "variant.chr (char)      Chromosome name (VARCHAR)\n",
      "variant.pos (int)       Position (INT, 1-based)\n",
      "variant.ref (char)      Reference allele (VARCHAR, - for missing allele of an\n",
      "                        insertion)\n",
      "variant.alt (char)      Alternative allele (VARCHAR, - for missing allele of an\n",
      "                        deletion)\n",
      "variant.DP (int)\n",
      "variant.filter (char)\n",
      "variant.alt_chr (char)\n",
      "variant.alt_pos (int)\n"
     ]
    }
   ],
   "source": [
    "vtools show fields"
   ]
  },
  {
   "cell_type": "markdown",
   "metadata": {},
   "source": [
    "## 1.2\tOverview of variant and genotype data\n",
    "\n",
    "### Total number of variants\n",
    "\n",
    "The number of imported variants may be greater than number of lines in the vcf file, because when a variant has two alternative alleles (e.g. A->T/C) it is treated as two separate variants."
   ]
  },
  {
   "cell_type": "code",
   "execution_count": 22,
   "metadata": {},
   "outputs": [
    {
     "name": "stdout",
     "output_type": "stream",
     "text": [
      "Counting variants: 4 405.3/s in 00:00:00\n",
      "6987\n"
     ]
    }
   ],
   "source": [
    "vtools select variant --count"
   ]
  },
  {
   "cell_type": "markdown",
   "metadata": {},
   "source": [
    "There are 6987 variants in our toy data-set."
   ]
  },
  {
   "cell_type": "markdown",
   "metadata": {},
   "source": [
    "`vtools select table condition action` selects from a variant table `table` a subset of variants satisfying a specified `condition`, and perform an `action` of\n",
    "\n",
    "- creating a new variant table if `--to_table` is specified.\n",
    "- counting the number of variants if `--count` is specified.\n",
    "- outputting selected variants if `--output` is specified."
   ]
  },
  {
   "cell_type": "markdown",
   "metadata": {},
   "source": [
    "The `condition` should be a SQL expression using one or more fields in a project (displayed in `vtools show` fields). If the condition argument is unspecified, then all variants in the table will be selected. An optional condition `--samples [condition]` can also be used to limit selected variants to specific samples. More details about `vtools select` command can be found at:\n",
    "\n",
    "http://varianttools.sourceforge.net/Vtools/Select"
   ]
  },
  {
   "cell_type": "markdown",
   "metadata": {},
   "source": [
    "### Genotype Summary\n",
    "\n",
    "The command `vtools show genotypes` displays the number of genotypes for each sample and names of the available genotype information fields for each sample, e.g. GT - genotype; DP geno - genotype read depth. Such information is useful for the calculation of summary statistics of genotypes (e.g. depth of coverage)."
   ]
  },
  {
   "cell_type": "code",
   "execution_count": 23,
   "metadata": {},
   "outputs": [],
   "source": [
    "vtools show genotypes > genotype_summary.txt"
   ]
  },
  {
   "cell_type": "code",
   "execution_count": 25,
   "metadata": {
    "kernel": "SoS"
   },
   "outputs": [
    {
     "data": {
      "text/html": [
       "<div class=\"sos_hint\">> genotype_summary.txt (11.5 KiB):</div>"
      ],
      "text/plain": [
       "\n",
       "> genotype_summary.txt (11.5 KiB):"
      ]
     },
     "metadata": {},
     "output_type": "display_data"
    },
    {
     "name": "stdout",
     "output_type": "stream",
     "text": [
      "sample_name\tfilename                 \tnum_genotypes\tsample_genotype_fields\n",
      "NA06984    \tCEU.exon...notypes.vcf.gz\t3162         \tDP,GT\n",
      "NA06985    \tCEU.exon...notypes.vcf.gz\t3144         \tDP,GT\n",
      "NA06986    \tCEU.exon...notypes.vcf.gz\t3437         \tDP,GT\n",
      "NA06989    \tCEU.exon...notypes.vcf.gz\t3130         \tDP,GT\n"
     ]
    }
   ],
   "source": [
    "%preview genotype_summary.txt"
   ]
  },
  {
   "cell_type": "markdown",
   "metadata": {},
   "source": [
    "## Variant Quality Overview\n",
    "\n",
    "The following command calculates summary statistics on the variant site depth of coverage (DP). Below is the command to calculate depth of coverage information for all variant sites."
   ]
  },
  {
   "cell_type": "code",
   "execution_count": null,
   "metadata": {},
   "outputs": [],
   "source": []
  }
 ],
 "metadata": {
  "kernelspec": {
   "display_name": "SoS",
   "language": "sos",
   "name": "sos"
  },
  "language_info": {
   "codemirror_mode": "sos",
   "file_extension": ".sos",
   "mimetype": "text/x-sos",
   "name": "sos",
   "nbconvert_exporter": "sos_notebook.converter.SoS_Exporter",
   "pygments_lexer": "sos"
  },
  "sos": {
   "default_kernel": "Bash",
   "kernels": [
    [
     "Bash",
     "bash",
     "Bash",
     "#E6EEFF"
    ],
    [
     "SoS",
     "sos",
     "",
     ""
    ]
   ]
  }
 },
 "nbformat": 4,
 "nbformat_minor": 2
}
